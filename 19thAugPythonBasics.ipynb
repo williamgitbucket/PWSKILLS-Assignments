{
 "cells": [
  {
   "cell_type": "code",
   "execution_count": 7,
   "id": "cd72ad2a-4be9-4428-bfa2-8a4ff17a5572",
   "metadata": {},
   "outputs": [
    {
     "name": "stdout",
     "output_type": "stream",
     "text": [
      "Swapping without using 3rd Variable\n",
      "Inital value of a and b is 10 20\n",
      "Value of a and b after swap is 20 10\n"
     ]
    }
   ],
   "source": [
    "print(\"Swapping without using 3rd Variable\")\n",
    "a = 10\n",
    "b = 20\n",
    "print(\"Inital value of a and b is\",a, b)\n",
    "a = a + b \n",
    "b = a - b \n",
    "a = a - b\n",
    "print( \"Value of a and b after swap is\", a, b)\n",
    "\n"
   ]
  },
  {
   "cell_type": "code",
   "execution_count": 1,
   "id": "14813731-ce4c-49b6-ad97-8c82056a4f45",
   "metadata": {},
   "outputs": [
    {
     "name": "stdout",
     "output_type": "stream",
     "text": [
      "     Area of Rectangle   \n",
      "Please enter the length\n"
     ]
    },
    {
     "name": "stdin",
     "output_type": "stream",
     "text": [
      " 10\n"
     ]
    },
    {
     "name": "stdout",
     "output_type": "stream",
     "text": [
      "Please enter the breadth\n"
     ]
    },
    {
     "name": "stdin",
     "output_type": "stream",
     "text": [
      " 21\n"
     ]
    },
    {
     "name": "stdout",
     "output_type": "stream",
     "text": [
      "Area of rectangle is : 210\n"
     ]
    }
   ],
   "source": [
    "print(\"     Area of Rectangle   \"    )\n",
    "print(\"Please enter the length\")\n",
    "x = int(input())\n",
    "print(\"Please enter the breadth\")\n",
    "y = int(input())\n",
    "z = x * y\n",
    "print(\"Area of rectangle is :\", z)"
   ]
  },
  {
   "cell_type": "code",
   "execution_count": 3,
   "id": "718c87c6-1a53-4b98-bb49-bc45dab6a19a",
   "metadata": {},
   "outputs": [
    {
     "name": "stdout",
     "output_type": "stream",
     "text": [
      "Temperature from Celcius to Farenheight\n",
      "Enter the temperature in celcius in your city\n"
     ]
    },
    {
     "name": "stdin",
     "output_type": "stream",
     "text": [
      " 23\n"
     ]
    },
    {
     "name": "stdout",
     "output_type": "stream",
     "text": [
      "1 Celcius is 33 Fahrenheit so temp in Farenheit is 73.4\n"
     ]
    }
   ],
   "source": [
    "print(\"Temperature from Celcius to Farenheight\")\n",
    "print(\"Enter the temperature in celcius in your city\")\n",
    "x = int(input())\n",
    "newfa = (x * 9/5) + 32\n",
    "print(\"1 Celcius is 33 Fahrenheit so temp in Farenheit is\", newfa)"
   ]
  },
  {
   "cell_type": "code",
   "execution_count": 10,
   "id": "9b4dd1f5-7cec-4a56-aa14-bfc9cdd3b6bd",
   "metadata": {},
   "outputs": [
    {
     "name": "stdout",
     "output_type": "stream",
     "text": [
      "Python program that takes a string as input and prints the length of string\n",
      "Please enter the input as string\n"
     ]
    },
    {
     "name": "stdin",
     "output_type": "stream",
     "text": [
      " Hi William you will learn\n"
     ]
    },
    {
     "name": "stdout",
     "output_type": "stream",
     "text": [
      "The lenght of string with space provided is  25\n",
      "The lenght of string removing space is  21\n"
     ]
    }
   ],
   "source": [
    "print(\"Python program that takes a string as input and prints the length of string\")\n",
    "print(\"Please enter the input as string\")\n",
    "x = input()\n",
    "lent = len(x)\n",
    "print(\"The lenght of string with space provided is \", len(x))\n",
    "y = x.replace(\" \",\"\")\n",
    "print(\"The lenght of string removing space is \",len(y))\n"
   ]
  },
  {
   "cell_type": "code",
   "execution_count": 5,
   "id": "4bc1f60e-93a8-485e-ab24-bf5a010db717",
   "metadata": {},
   "outputs": [
    {
     "name": "stdout",
     "output_type": "stream",
     "text": [
      "Count Vowels in string\n",
      "Enter the string\n"
     ]
    },
    {
     "name": "stdin",
     "output_type": "stream",
     "text": [
      " Welcome to Data science\n"
     ]
    },
    {
     "name": "stdout",
     "output_type": "stream",
     "text": [
      "WelcometoDatascience\n",
      "Vowel a found in string and it occured 2\n",
      "Vowel e found in string and it occured 4\n",
      "Vowel i found in string and it occured 1\n",
      "Vowel o found in string and it occured 2\n",
      "Vowel u found in string and it occured 0\n"
     ]
    }
   ],
   "source": [
    "print(\"Count Vowels in string\")\n",
    "print(\"Enter the string\")\n",
    "str = input()\n",
    "y =str.replace(\" \",\"\")\n",
    "print(y)\n",
    "'a' in y\n",
    "print(\"Vowel a found in string and it occured\", y.count('a'))\n",
    "'e' in y\n",
    "print(\"Vowel e found in string and it occured\", y.count('e'))\n",
    "'i' in y\n",
    "print(\"Vowel i found in string and it occured\", y.count('i'))\n",
    "'o' in y\n",
    "print(\"Vowel o found in string and it occured\", y.count('o'))\n",
    "'u' in y\n",
    "print(\"Vowel u found in string and it occured\", y.count('u'))    \n"
   ]
  },
  {
   "cell_type": "code",
   "execution_count": 14,
   "id": "427ac619-b24c-4c29-90f0-90da92d1cfab",
   "metadata": {},
   "outputs": [
    {
     "name": "stdout",
     "output_type": "stream",
     "text": [
      "Given a string, reverse the order of characters using string slicing and print\n",
      "Enter the string\n"
     ]
    },
    {
     "name": "stdin",
     "output_type": "stream",
     "text": [
      " Hello William\n"
     ]
    },
    {
     "name": "stdout",
     "output_type": "stream",
     "text": [
      "Reverse string is mailliW olleH\n"
     ]
    }
   ],
   "source": [
    "print(\"Given a string, reverse the order of characters using string slicing and print\")\n",
    "print(\"Enter the string\")\n",
    "str = input()\n",
    "ystr =str[-1::-1]\n",
    "print(\"Reverse string is\", ystr)\n"
   ]
  },
  {
   "cell_type": "code",
   "execution_count": 17,
   "id": "1f16e6c3-69cb-4ab6-b2ed-f9d722ee2841",
   "metadata": {},
   "outputs": [
    {
     "name": "stdout",
     "output_type": "stream",
     "text": [
      "program that takes a string as input and checks if it is a palindrome\n",
      "Enter the string\n"
     ]
    },
    {
     "name": "stdin",
     "output_type": "stream",
     "text": [
      " racecar\n"
     ]
    },
    {
     "name": "stdout",
     "output_type": "stream",
     "text": [
      "Reverse string is racecar\n",
      "String is palindrome\n"
     ]
    }
   ],
   "source": [
    "print(\"program that takes a string as input and checks if it is a palindrome\")\n",
    "print(\"Enter the string\")\n",
    "str = input()\n",
    "ystr =str[-1::-1]\n",
    "print(\"Reverse string is\", ystr)\n",
    "if str == ystr:\n",
    "    print(\"String is palindrome\")"
   ]
  },
  {
   "cell_type": "code",
   "execution_count": 18,
   "id": "5c000d30-896f-4ef9-bc38-2767e1da3a9c",
   "metadata": {},
   "outputs": [
    {
     "name": "stdout",
     "output_type": "stream",
     "text": [
      "program that takes a string as input and removes all the spaces\n",
      "Enter string\n"
     ]
    },
    {
     "name": "stdin",
     "output_type": "stream",
     "text": [
      " Hi There\n"
     ]
    },
    {
     "name": "stdout",
     "output_type": "stream",
     "text": [
      "HiThere\n"
     ]
    }
   ],
   "source": [
    "print(\"program that takes a string as input and removes all the spaces\")\n",
    "print(\"Enter string\")\n",
    "sttrs = input()\n",
    "nospaces = sttrs.replace(\" \",\"\")\n",
    "print(nospaces)"
   ]
  },
  {
   "cell_type": "code",
   "execution_count": null,
   "id": "3db62a57-d158-471b-b7ce-545ca26ea6a8",
   "metadata": {},
   "outputs": [],
   "source": []
  }
 ],
 "metadata": {
  "kernelspec": {
   "display_name": "Python 3 (ipykernel)",
   "language": "python",
   "name": "python3"
  },
  "language_info": {
   "codemirror_mode": {
    "name": "ipython",
    "version": 3
   },
   "file_extension": ".py",
   "mimetype": "text/x-python",
   "name": "python",
   "nbconvert_exporter": "python",
   "pygments_lexer": "ipython3",
   "version": "3.10.8"
  }
 },
 "nbformat": 4,
 "nbformat_minor": 5
}
